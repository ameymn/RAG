{
 "cells": [
  {
   "cell_type": "code",
   "execution_count": 44,
   "metadata": {},
   "outputs": [],
   "source": [
    "import os\n",
    "from dotenv import load_dotenv\n",
    "\n",
    "load_dotenv()\n",
    "\n",
    "OPENAI_API_KEY=os.getenv(\"GOOGLE_API_KEY\")\n",
    "\n",
    "YOUTUBE_VIDEO=\"https://www.youtube.com/watch?v=cpLi-82koFM\""
   ]
  },
  {
   "cell_type": "code",
   "execution_count": 13,
   "metadata": {},
   "outputs": [],
   "source": [
    "from langchain_google_genai import ChatGoogleGenerativeAI\n",
    "\n",
    "model=ChatGoogleGenerativeAI(model=\"gemini-pro\")"
   ]
  },
  {
   "cell_type": "code",
   "execution_count": 15,
   "metadata": {},
   "outputs": [
    {
     "name": "stdout",
     "output_type": "stream",
     "text": [
      "New Delhi\n"
     ]
    }
   ],
   "source": [
    "result=model.invoke(\"What is capital of india\")\n",
    "print(result.content)"
   ]
  },
  {
   "cell_type": "code",
   "execution_count": 22,
   "metadata": {},
   "outputs": [
    {
     "data": {
      "text/plain": [
       "'New Delhi'"
      ]
     },
     "execution_count": 22,
     "metadata": {},
     "output_type": "execute_result"
    }
   ],
   "source": [
    "from langchain_core.output_parsers import StrOutputParser\n",
    "\n",
    "parser=StrOutputParser()\n",
    "\n",
    "chain=model | parser\n",
    "chain.invoke(\"What is capital of india\")"
   ]
  },
  {
   "cell_type": "code",
   "execution_count": 23,
   "metadata": {},
   "outputs": [
    {
     "data": {
      "text/plain": [
       "'Human: \\nAnswer the question based on the context below. If you can\\'t answer the question, reply \"I don\\'t know\".\\n\\nContext:Mary\\'s sister is Susana\\n \\nQuestion:Who is Mary\\'s sister?\\n'"
      ]
     },
     "execution_count": 23,
     "metadata": {},
     "output_type": "execute_result"
    }
   ],
   "source": [
    "from langchain.prompts import ChatPromptTemplate\n",
    "\n",
    "template=\"\"\"\n",
    "Answer the question based on the context below. If you can't answer the question, reply \"I don't know\".\n",
    "\n",
    "Context:{context}\n",
    " \n",
    "Question:{question}\n",
    "\"\"\"\n",
    "prompt=ChatPromptTemplate.from_template(template)\n",
    "prompt.format(context=\"Mary's sister is Susana\",question=\"Who is Mary's sister?\")"
   ]
  },
  {
   "cell_type": "code",
   "execution_count": 24,
   "metadata": {},
   "outputs": [
    {
     "data": {
      "text/plain": [
       "'Susana'"
      ]
     },
     "execution_count": 24,
     "metadata": {},
     "output_type": "execute_result"
    }
   ],
   "source": [
    "chain= prompt | model | parser\n",
    "chain.invoke({\n",
    "            \"context\":\"Mary's sister is Susana\",\n",
    "            \"question\":\"Who is Mary's sister?\"\n",
    "})"
   ]
  },
  {
   "cell_type": "markdown",
   "metadata": {},
   "source": [
    "### Combining Chains"
   ]
  },
  {
   "cell_type": "code",
   "execution_count": 28,
   "metadata": {},
   "outputs": [],
   "source": [
    "translation_prompt=ChatPromptTemplate.from_template(\n",
    "    \"Translate {answer} to {language}\"\n",
    ")"
   ]
  },
  {
   "cell_type": "code",
   "execution_count": 35,
   "metadata": {},
   "outputs": [
    {
     "data": {
      "text/plain": [
       "'La hermana de Mary es Susana. Sí, Mary tiene una hermana.'"
      ]
     },
     "execution_count": 35,
     "metadata": {},
     "output_type": "execute_result"
    }
   ],
   "source": [
    "from operator import itemgetter\n",
    "\n",
    "translation_chain=(\n",
    "    {\"answer\":chain,\"language\":itemgetter(\"language\")} | translation_prompt | model | parser \n",
    ")\n",
    "translation_chain.invoke(\n",
    "    {\n",
    "        \"context\":\"Mary's sister is Susana. She doesn't have any more siblings.\",\n",
    "        \"question\":\"Who is Mary's sisters? does Mary have one?\",\n",
    "        \"language\":\"Spanish\",\n",
    "    }\n",
    ")"
   ]
  },
  {
   "cell_type": "code",
   "execution_count": 61,
   "metadata": {},
   "outputs": [
    {
     "ename": "RegexMatchError",
     "evalue": "get_throttling_function_name: could not find match for multiple",
     "output_type": "error",
     "traceback": [
      "\u001b[0;31m---------------------------------------------------------------------------\u001b[0m",
      "\u001b[0;31mRegexMatchError\u001b[0m                           Traceback (most recent call last)",
      "File \u001b[0;32m~/Desktop/rag/.venv/lib/python3.10/site-packages/pytube/__main__.py:181\u001b[0m, in \u001b[0;36mYouTube.fmt_streams\u001b[0;34m(self)\u001b[0m\n\u001b[1;32m    180\u001b[0m \u001b[38;5;28;01mtry\u001b[39;00m:\n\u001b[0;32m--> 181\u001b[0m     \u001b[43mextract\u001b[49m\u001b[38;5;241;43m.\u001b[39;49m\u001b[43mapply_signature\u001b[49m\u001b[43m(\u001b[49m\u001b[43mstream_manifest\u001b[49m\u001b[43m,\u001b[49m\u001b[43m \u001b[49m\u001b[38;5;28;43mself\u001b[39;49m\u001b[38;5;241;43m.\u001b[39;49m\u001b[43mvid_info\u001b[49m\u001b[43m,\u001b[49m\u001b[43m \u001b[49m\u001b[38;5;28;43mself\u001b[39;49m\u001b[38;5;241;43m.\u001b[39;49m\u001b[43mjs\u001b[49m\u001b[43m)\u001b[49m\n\u001b[1;32m    182\u001b[0m \u001b[38;5;28;01mexcept\u001b[39;00m exceptions\u001b[38;5;241m.\u001b[39mExtractError:\n\u001b[1;32m    183\u001b[0m     \u001b[38;5;66;03m# To force an update to the js file, we clear the cache and retry\u001b[39;00m\n",
      "File \u001b[0;32m~/Desktop/rag/.venv/lib/python3.10/site-packages/pytube/extract.py:409\u001b[0m, in \u001b[0;36mapply_signature\u001b[0;34m(stream_manifest, vid_info, js)\u001b[0m\n\u001b[1;32m    401\u001b[0m \u001b[38;5;250m\u001b[39m\u001b[38;5;124;03m\"\"\"Apply the decrypted signature to the stream manifest.\u001b[39;00m\n\u001b[1;32m    402\u001b[0m \n\u001b[1;32m    403\u001b[0m \u001b[38;5;124;03m:param dict stream_manifest:\u001b[39;00m\n\u001b[0;32m   (...)\u001b[0m\n\u001b[1;32m    407\u001b[0m \n\u001b[1;32m    408\u001b[0m \u001b[38;5;124;03m\"\"\"\u001b[39;00m\n\u001b[0;32m--> 409\u001b[0m cipher \u001b[38;5;241m=\u001b[39m \u001b[43mCipher\u001b[49m\u001b[43m(\u001b[49m\u001b[43mjs\u001b[49m\u001b[38;5;241;43m=\u001b[39;49m\u001b[43mjs\u001b[49m\u001b[43m)\u001b[49m\n\u001b[1;32m    411\u001b[0m \u001b[38;5;28;01mfor\u001b[39;00m i, stream \u001b[38;5;129;01min\u001b[39;00m \u001b[38;5;28menumerate\u001b[39m(stream_manifest):\n",
      "File \u001b[0;32m~/Desktop/rag/.venv/lib/python3.10/site-packages/pytube/cipher.py:43\u001b[0m, in \u001b[0;36mCipher.__init__\u001b[0;34m(self, js)\u001b[0m\n\u001b[1;32m     38\u001b[0m \u001b[38;5;28mself\u001b[39m\u001b[38;5;241m.\u001b[39mjs_func_patterns \u001b[38;5;241m=\u001b[39m [\n\u001b[1;32m     39\u001b[0m     \u001b[38;5;124mr\u001b[39m\u001b[38;5;124m\"\u001b[39m\u001b[38;5;124m\\\u001b[39m\u001b[38;5;124mw+\u001b[39m\u001b[38;5;124m\\\u001b[39m\u001b[38;5;124m.(\u001b[39m\u001b[38;5;124m\\\u001b[39m\u001b[38;5;124mw+)\u001b[39m\u001b[38;5;124m\\\u001b[39m\u001b[38;5;124m(\u001b[39m\u001b[38;5;124m\\\u001b[39m\u001b[38;5;124mw,(\u001b[39m\u001b[38;5;124m\\\u001b[39m\u001b[38;5;124md+)\u001b[39m\u001b[38;5;124m\\\u001b[39m\u001b[38;5;124m)\u001b[39m\u001b[38;5;124m\"\u001b[39m,\n\u001b[1;32m     40\u001b[0m     \u001b[38;5;124mr\u001b[39m\u001b[38;5;124m\"\u001b[39m\u001b[38;5;124m\\\u001b[39m\u001b[38;5;124mw+\u001b[39m\u001b[38;5;124m\\\u001b[39m\u001b[38;5;124m[(\u001b[39m\u001b[38;5;130;01m\\\"\u001b[39;00m\u001b[38;5;124m\\\u001b[39m\u001b[38;5;124mw+\u001b[39m\u001b[38;5;130;01m\\\"\u001b[39;00m\u001b[38;5;124m)\u001b[39m\u001b[38;5;124m\\\u001b[39m\u001b[38;5;124m]\u001b[39m\u001b[38;5;124m\\\u001b[39m\u001b[38;5;124m(\u001b[39m\u001b[38;5;124m\\\u001b[39m\u001b[38;5;124mw,(\u001b[39m\u001b[38;5;124m\\\u001b[39m\u001b[38;5;124md+)\u001b[39m\u001b[38;5;124m\\\u001b[39m\u001b[38;5;124m)\u001b[39m\u001b[38;5;124m\"\u001b[39m\n\u001b[1;32m     41\u001b[0m ]\n\u001b[0;32m---> 43\u001b[0m \u001b[38;5;28mself\u001b[39m\u001b[38;5;241m.\u001b[39mthrottling_plan \u001b[38;5;241m=\u001b[39m \u001b[43mget_throttling_plan\u001b[49m\u001b[43m(\u001b[49m\u001b[43mjs\u001b[49m\u001b[43m)\u001b[49m\n\u001b[1;32m     44\u001b[0m \u001b[38;5;28mself\u001b[39m\u001b[38;5;241m.\u001b[39mthrottling_array \u001b[38;5;241m=\u001b[39m get_throttling_function_array(js)\n",
      "File \u001b[0;32m~/Desktop/rag/.venv/lib/python3.10/site-packages/pytube/cipher.py:405\u001b[0m, in \u001b[0;36mget_throttling_plan\u001b[0;34m(js)\u001b[0m\n\u001b[1;32m    393\u001b[0m \u001b[38;5;250m\u001b[39m\u001b[38;5;124;03m\"\"\"Extract the \"throttling plan\".\u001b[39;00m\n\u001b[1;32m    394\u001b[0m \n\u001b[1;32m    395\u001b[0m \u001b[38;5;124;03mThe \"throttling plan\" is a list of tuples used for calling functions\u001b[39;00m\n\u001b[0;32m   (...)\u001b[0m\n\u001b[1;32m    403\u001b[0m \u001b[38;5;124;03m    The full function code for computing the throttlign parameter.\u001b[39;00m\n\u001b[1;32m    404\u001b[0m \u001b[38;5;124;03m\"\"\"\u001b[39;00m\n\u001b[0;32m--> 405\u001b[0m raw_code \u001b[38;5;241m=\u001b[39m \u001b[43mget_throttling_function_code\u001b[49m\u001b[43m(\u001b[49m\u001b[43mjs\u001b[49m\u001b[43m)\u001b[49m\n\u001b[1;32m    407\u001b[0m transform_start \u001b[38;5;241m=\u001b[39m \u001b[38;5;124mr\u001b[39m\u001b[38;5;124m\"\u001b[39m\u001b[38;5;124mtry\u001b[39m\u001b[38;5;124m{\u001b[39m\u001b[38;5;124m\"\u001b[39m\n",
      "File \u001b[0;32m~/Desktop/rag/.venv/lib/python3.10/site-packages/pytube/cipher.py:311\u001b[0m, in \u001b[0;36mget_throttling_function_code\u001b[0;34m(js)\u001b[0m\n\u001b[1;32m    310\u001b[0m \u001b[38;5;66;03m# Begin by extracting the correct function name\u001b[39;00m\n\u001b[0;32m--> 311\u001b[0m name \u001b[38;5;241m=\u001b[39m re\u001b[38;5;241m.\u001b[39mescape(\u001b[43mget_throttling_function_name\u001b[49m\u001b[43m(\u001b[49m\u001b[43mjs\u001b[49m\u001b[43m)\u001b[49m)\n\u001b[1;32m    313\u001b[0m \u001b[38;5;66;03m# Identify where the function is defined\u001b[39;00m\n",
      "File \u001b[0;32m~/Desktop/rag/.venv/lib/python3.10/site-packages/pytube/cipher.py:296\u001b[0m, in \u001b[0;36mget_throttling_function_name\u001b[0;34m(js)\u001b[0m\n\u001b[1;32m    294\u001b[0m                 \u001b[38;5;28;01mreturn\u001b[39;00m array[\u001b[38;5;28mint\u001b[39m(idx)]\n\u001b[0;32m--> 296\u001b[0m \u001b[38;5;28;01mraise\u001b[39;00m RegexMatchError(\n\u001b[1;32m    297\u001b[0m     caller\u001b[38;5;241m=\u001b[39m\u001b[38;5;124m\"\u001b[39m\u001b[38;5;124mget_throttling_function_name\u001b[39m\u001b[38;5;124m\"\u001b[39m, pattern\u001b[38;5;241m=\u001b[39m\u001b[38;5;124m\"\u001b[39m\u001b[38;5;124mmultiple\u001b[39m\u001b[38;5;124m\"\u001b[39m\n\u001b[1;32m    298\u001b[0m )\n",
      "\u001b[0;31mRegexMatchError\u001b[0m: get_throttling_function_name: could not find match for multiple",
      "\nDuring handling of the above exception, another exception occurred:\n",
      "\u001b[0;31mRegexMatchError\u001b[0m                           Traceback (most recent call last)",
      "Cell \u001b[0;32mIn[61], line 8\u001b[0m\n\u001b[1;32m      4\u001b[0m \u001b[38;5;66;03m# Let's do this only if we haven't created the transcription file yet.\u001b[39;00m\n\u001b[1;32m      6\u001b[0m \u001b[38;5;28;01mif\u001b[39;00m \u001b[38;5;129;01mnot\u001b[39;00m os\u001b[38;5;241m.\u001b[39mpath\u001b[38;5;241m.\u001b[39mexists(\u001b[38;5;124m\"\u001b[39m\u001b[38;5;124mtranscription.txt\u001b[39m\u001b[38;5;124m\"\u001b[39m):\n\u001b[0;32m----> 8\u001b[0m     audio_file \u001b[38;5;241m=\u001b[39m \u001b[43mYouTube\u001b[49m\u001b[43m(\u001b[49m\u001b[43mYOUTUBE_VIDEO\u001b[49m\u001b[43m)\u001b[49m\u001b[38;5;241;43m.\u001b[39;49m\u001b[43mstreams\u001b[49m\u001b[38;5;241m.\u001b[39mfilter(only_audio\u001b[38;5;241m=\u001b[39m\u001b[38;5;28;01mTrue\u001b[39;00m)\u001b[38;5;241m.\u001b[39mfirst()\u001b[38;5;241m.\u001b[39mdownload(filename\u001b[38;5;241m=\u001b[39m\u001b[38;5;124m\"\u001b[39m\u001b[38;5;124maudio.mp4\u001b[39m\u001b[38;5;124m\"\u001b[39m)\n\u001b[1;32m     10\u001b[0m     whisper_model \u001b[38;5;241m=\u001b[39m whisper\u001b[38;5;241m.\u001b[39mload_model(\u001b[38;5;124m\"\u001b[39m\u001b[38;5;124mtiny\u001b[39m\u001b[38;5;124m\"\u001b[39m)\n\u001b[1;32m     11\u001b[0m     transcription \u001b[38;5;241m=\u001b[39m whisper_model\u001b[38;5;241m.\u001b[39mtranscribe(audio_file)\n",
      "File \u001b[0;32m~/Desktop/rag/.venv/lib/python3.10/site-packages/pytube/__main__.py:296\u001b[0m, in \u001b[0;36mYouTube.streams\u001b[0;34m(self)\u001b[0m\n\u001b[1;32m    291\u001b[0m \u001b[38;5;250m\u001b[39m\u001b[38;5;124;03m\"\"\"Interface to query both adaptive (DASH) and progressive streams.\u001b[39;00m\n\u001b[1;32m    292\u001b[0m \n\u001b[1;32m    293\u001b[0m \u001b[38;5;124;03m:rtype: :class:`StreamQuery <StreamQuery>`.\u001b[39;00m\n\u001b[1;32m    294\u001b[0m \u001b[38;5;124;03m\"\"\"\u001b[39;00m\n\u001b[1;32m    295\u001b[0m \u001b[38;5;28mself\u001b[39m\u001b[38;5;241m.\u001b[39mcheck_availability()\n\u001b[0;32m--> 296\u001b[0m \u001b[38;5;28;01mreturn\u001b[39;00m StreamQuery(\u001b[38;5;28;43mself\u001b[39;49m\u001b[38;5;241;43m.\u001b[39;49m\u001b[43mfmt_streams\u001b[49m)\n",
      "File \u001b[0;32m~/Desktop/rag/.venv/lib/python3.10/site-packages/pytube/__main__.py:188\u001b[0m, in \u001b[0;36mYouTube.fmt_streams\u001b[0;34m(self)\u001b[0m\n\u001b[1;32m    186\u001b[0m     pytube\u001b[38;5;241m.\u001b[39m__js__ \u001b[38;5;241m=\u001b[39m \u001b[38;5;28;01mNone\u001b[39;00m\n\u001b[1;32m    187\u001b[0m     pytube\u001b[38;5;241m.\u001b[39m__js_url__ \u001b[38;5;241m=\u001b[39m \u001b[38;5;28;01mNone\u001b[39;00m\n\u001b[0;32m--> 188\u001b[0m     \u001b[43mextract\u001b[49m\u001b[38;5;241;43m.\u001b[39;49m\u001b[43mapply_signature\u001b[49m\u001b[43m(\u001b[49m\u001b[43mstream_manifest\u001b[49m\u001b[43m,\u001b[49m\u001b[43m \u001b[49m\u001b[38;5;28;43mself\u001b[39;49m\u001b[38;5;241;43m.\u001b[39;49m\u001b[43mvid_info\u001b[49m\u001b[43m,\u001b[49m\u001b[43m \u001b[49m\u001b[38;5;28;43mself\u001b[39;49m\u001b[38;5;241;43m.\u001b[39;49m\u001b[43mjs\u001b[49m\u001b[43m)\u001b[49m\n\u001b[1;32m    190\u001b[0m \u001b[38;5;66;03m# build instances of :class:`Stream <Stream>`\u001b[39;00m\n\u001b[1;32m    191\u001b[0m \u001b[38;5;66;03m# Initialize stream objects\u001b[39;00m\n\u001b[1;32m    192\u001b[0m \u001b[38;5;28;01mfor\u001b[39;00m stream \u001b[38;5;129;01min\u001b[39;00m stream_manifest:\n",
      "File \u001b[0;32m~/Desktop/rag/.venv/lib/python3.10/site-packages/pytube/extract.py:409\u001b[0m, in \u001b[0;36mapply_signature\u001b[0;34m(stream_manifest, vid_info, js)\u001b[0m\n\u001b[1;32m    400\u001b[0m \u001b[38;5;28;01mdef\u001b[39;00m \u001b[38;5;21mapply_signature\u001b[39m(stream_manifest: Dict, vid_info: Dict, js: \u001b[38;5;28mstr\u001b[39m) \u001b[38;5;241m-\u001b[39m\u001b[38;5;241m>\u001b[39m \u001b[38;5;28;01mNone\u001b[39;00m:\n\u001b[1;32m    401\u001b[0m \u001b[38;5;250m    \u001b[39m\u001b[38;5;124;03m\"\"\"Apply the decrypted signature to the stream manifest.\u001b[39;00m\n\u001b[1;32m    402\u001b[0m \n\u001b[1;32m    403\u001b[0m \u001b[38;5;124;03m    :param dict stream_manifest:\u001b[39;00m\n\u001b[0;32m   (...)\u001b[0m\n\u001b[1;32m    407\u001b[0m \n\u001b[1;32m    408\u001b[0m \u001b[38;5;124;03m    \"\"\"\u001b[39;00m\n\u001b[0;32m--> 409\u001b[0m     cipher \u001b[38;5;241m=\u001b[39m \u001b[43mCipher\u001b[49m\u001b[43m(\u001b[49m\u001b[43mjs\u001b[49m\u001b[38;5;241;43m=\u001b[39;49m\u001b[43mjs\u001b[49m\u001b[43m)\u001b[49m\n\u001b[1;32m    411\u001b[0m     \u001b[38;5;28;01mfor\u001b[39;00m i, stream \u001b[38;5;129;01min\u001b[39;00m \u001b[38;5;28menumerate\u001b[39m(stream_manifest):\n\u001b[1;32m    412\u001b[0m         \u001b[38;5;28;01mtry\u001b[39;00m:\n",
      "File \u001b[0;32m~/Desktop/rag/.venv/lib/python3.10/site-packages/pytube/cipher.py:43\u001b[0m, in \u001b[0;36mCipher.__init__\u001b[0;34m(self, js)\u001b[0m\n\u001b[1;32m     37\u001b[0m \u001b[38;5;28mself\u001b[39m\u001b[38;5;241m.\u001b[39mtransform_map \u001b[38;5;241m=\u001b[39m get_transform_map(js, var)\n\u001b[1;32m     38\u001b[0m \u001b[38;5;28mself\u001b[39m\u001b[38;5;241m.\u001b[39mjs_func_patterns \u001b[38;5;241m=\u001b[39m [\n\u001b[1;32m     39\u001b[0m     \u001b[38;5;124mr\u001b[39m\u001b[38;5;124m\"\u001b[39m\u001b[38;5;124m\\\u001b[39m\u001b[38;5;124mw+\u001b[39m\u001b[38;5;124m\\\u001b[39m\u001b[38;5;124m.(\u001b[39m\u001b[38;5;124m\\\u001b[39m\u001b[38;5;124mw+)\u001b[39m\u001b[38;5;124m\\\u001b[39m\u001b[38;5;124m(\u001b[39m\u001b[38;5;124m\\\u001b[39m\u001b[38;5;124mw,(\u001b[39m\u001b[38;5;124m\\\u001b[39m\u001b[38;5;124md+)\u001b[39m\u001b[38;5;124m\\\u001b[39m\u001b[38;5;124m)\u001b[39m\u001b[38;5;124m\"\u001b[39m,\n\u001b[1;32m     40\u001b[0m     \u001b[38;5;124mr\u001b[39m\u001b[38;5;124m\"\u001b[39m\u001b[38;5;124m\\\u001b[39m\u001b[38;5;124mw+\u001b[39m\u001b[38;5;124m\\\u001b[39m\u001b[38;5;124m[(\u001b[39m\u001b[38;5;130;01m\\\"\u001b[39;00m\u001b[38;5;124m\\\u001b[39m\u001b[38;5;124mw+\u001b[39m\u001b[38;5;130;01m\\\"\u001b[39;00m\u001b[38;5;124m)\u001b[39m\u001b[38;5;124m\\\u001b[39m\u001b[38;5;124m]\u001b[39m\u001b[38;5;124m\\\u001b[39m\u001b[38;5;124m(\u001b[39m\u001b[38;5;124m\\\u001b[39m\u001b[38;5;124mw,(\u001b[39m\u001b[38;5;124m\\\u001b[39m\u001b[38;5;124md+)\u001b[39m\u001b[38;5;124m\\\u001b[39m\u001b[38;5;124m)\u001b[39m\u001b[38;5;124m\"\u001b[39m\n\u001b[1;32m     41\u001b[0m ]\n\u001b[0;32m---> 43\u001b[0m \u001b[38;5;28mself\u001b[39m\u001b[38;5;241m.\u001b[39mthrottling_plan \u001b[38;5;241m=\u001b[39m \u001b[43mget_throttling_plan\u001b[49m\u001b[43m(\u001b[49m\u001b[43mjs\u001b[49m\u001b[43m)\u001b[49m\n\u001b[1;32m     44\u001b[0m \u001b[38;5;28mself\u001b[39m\u001b[38;5;241m.\u001b[39mthrottling_array \u001b[38;5;241m=\u001b[39m get_throttling_function_array(js)\n\u001b[1;32m     46\u001b[0m \u001b[38;5;28mself\u001b[39m\u001b[38;5;241m.\u001b[39mcalculated_n \u001b[38;5;241m=\u001b[39m \u001b[38;5;28;01mNone\u001b[39;00m\n",
      "File \u001b[0;32m~/Desktop/rag/.venv/lib/python3.10/site-packages/pytube/cipher.py:405\u001b[0m, in \u001b[0;36mget_throttling_plan\u001b[0;34m(js)\u001b[0m\n\u001b[1;32m    392\u001b[0m \u001b[38;5;28;01mdef\u001b[39;00m \u001b[38;5;21mget_throttling_plan\u001b[39m(js: \u001b[38;5;28mstr\u001b[39m):\n\u001b[1;32m    393\u001b[0m \u001b[38;5;250m    \u001b[39m\u001b[38;5;124;03m\"\"\"Extract the \"throttling plan\".\u001b[39;00m\n\u001b[1;32m    394\u001b[0m \n\u001b[1;32m    395\u001b[0m \u001b[38;5;124;03m    The \"throttling plan\" is a list of tuples used for calling functions\u001b[39;00m\n\u001b[0;32m   (...)\u001b[0m\n\u001b[1;32m    403\u001b[0m \u001b[38;5;124;03m        The full function code for computing the throttlign parameter.\u001b[39;00m\n\u001b[1;32m    404\u001b[0m \u001b[38;5;124;03m    \"\"\"\u001b[39;00m\n\u001b[0;32m--> 405\u001b[0m     raw_code \u001b[38;5;241m=\u001b[39m \u001b[43mget_throttling_function_code\u001b[49m\u001b[43m(\u001b[49m\u001b[43mjs\u001b[49m\u001b[43m)\u001b[49m\n\u001b[1;32m    407\u001b[0m     transform_start \u001b[38;5;241m=\u001b[39m \u001b[38;5;124mr\u001b[39m\u001b[38;5;124m\"\u001b[39m\u001b[38;5;124mtry\u001b[39m\u001b[38;5;124m{\u001b[39m\u001b[38;5;124m\"\u001b[39m\n\u001b[1;32m    408\u001b[0m     plan_regex \u001b[38;5;241m=\u001b[39m re\u001b[38;5;241m.\u001b[39mcompile(transform_start)\n",
      "File \u001b[0;32m~/Desktop/rag/.venv/lib/python3.10/site-packages/pytube/cipher.py:311\u001b[0m, in \u001b[0;36mget_throttling_function_code\u001b[0;34m(js)\u001b[0m\n\u001b[1;32m    302\u001b[0m \u001b[38;5;250m\u001b[39m\u001b[38;5;124;03m\"\"\"Extract the raw code for the throttling function.\u001b[39;00m\n\u001b[1;32m    303\u001b[0m \n\u001b[1;32m    304\u001b[0m \u001b[38;5;124;03m:param str js:\u001b[39;00m\n\u001b[0;32m   (...)\u001b[0m\n\u001b[1;32m    308\u001b[0m \u001b[38;5;124;03m    The name of the function used to compute the throttling parameter.\u001b[39;00m\n\u001b[1;32m    309\u001b[0m \u001b[38;5;124;03m\"\"\"\u001b[39;00m\n\u001b[1;32m    310\u001b[0m \u001b[38;5;66;03m# Begin by extracting the correct function name\u001b[39;00m\n\u001b[0;32m--> 311\u001b[0m name \u001b[38;5;241m=\u001b[39m re\u001b[38;5;241m.\u001b[39mescape(\u001b[43mget_throttling_function_name\u001b[49m\u001b[43m(\u001b[49m\u001b[43mjs\u001b[49m\u001b[43m)\u001b[49m)\n\u001b[1;32m    313\u001b[0m \u001b[38;5;66;03m# Identify where the function is defined\u001b[39;00m\n\u001b[1;32m    314\u001b[0m pattern_start \u001b[38;5;241m=\u001b[39m \u001b[38;5;124mr\u001b[39m\u001b[38;5;124m\"\u001b[39m\u001b[38;5;132;01m%s\u001b[39;00m\u001b[38;5;124m=function\u001b[39m\u001b[38;5;124m\\\u001b[39m\u001b[38;5;124m(\u001b[39m\u001b[38;5;124m\\\u001b[39m\u001b[38;5;124mw\u001b[39m\u001b[38;5;124m\\\u001b[39m\u001b[38;5;124m)\u001b[39m\u001b[38;5;124m\"\u001b[39m \u001b[38;5;241m%\u001b[39m name\n",
      "File \u001b[0;32m~/Desktop/rag/.venv/lib/python3.10/site-packages/pytube/cipher.py:296\u001b[0m, in \u001b[0;36mget_throttling_function_name\u001b[0;34m(js)\u001b[0m\n\u001b[1;32m    293\u001b[0m                 array \u001b[38;5;241m=\u001b[39m [x\u001b[38;5;241m.\u001b[39mstrip() \u001b[38;5;28;01mfor\u001b[39;00m x \u001b[38;5;129;01min\u001b[39;00m array]\n\u001b[1;32m    294\u001b[0m                 \u001b[38;5;28;01mreturn\u001b[39;00m array[\u001b[38;5;28mint\u001b[39m(idx)]\n\u001b[0;32m--> 296\u001b[0m \u001b[38;5;28;01mraise\u001b[39;00m RegexMatchError(\n\u001b[1;32m    297\u001b[0m     caller\u001b[38;5;241m=\u001b[39m\u001b[38;5;124m\"\u001b[39m\u001b[38;5;124mget_throttling_function_name\u001b[39m\u001b[38;5;124m\"\u001b[39m, pattern\u001b[38;5;241m=\u001b[39m\u001b[38;5;124m\"\u001b[39m\u001b[38;5;124mmultiple\u001b[39m\u001b[38;5;124m\"\u001b[39m\n\u001b[1;32m    298\u001b[0m )\n",
      "\u001b[0;31mRegexMatchError\u001b[0m: get_throttling_function_name: could not find match for multiple"
     ]
    }
   ],
   "source": [
    "import tempfile\n",
    "import whisper\n",
    "from pytube import YouTube\n",
    "# Let's do this only if we haven't created the transcription file yet.\n",
    "\n",
    "if not os.path.exists(\"transcription.txt\"):\n",
    "\n",
    "    audio_file = YouTube(YOUTUBE_VIDEO).streams.filter(only_audio=True).first().download(filename=\"audio.mp4\")\n",
    "\n",
    "    whisper_model = whisper.load_model(\"tiny\")\n",
    "    transcription = whisper_model.transcribe(audio_file)\n",
    "    result = whisper_model.transcribe(\"audio_english.mp3\")\n",
    "    print(result[\"text\"])"
   ]
  },
  {
   "cell_type": "code",
   "execution_count": null,
   "metadata": {},
   "outputs": [],
   "source": []
  }
 ],
 "metadata": {
  "kernelspec": {
   "display_name": ".venv",
   "language": "python",
   "name": "python3"
  },
  "language_info": {
   "codemirror_mode": {
    "name": "ipython",
    "version": 3
   },
   "file_extension": ".py",
   "mimetype": "text/x-python",
   "name": "python",
   "nbconvert_exporter": "python",
   "pygments_lexer": "ipython3",
   "version": "3.10.13"
  }
 },
 "nbformat": 4,
 "nbformat_minor": 2
}
